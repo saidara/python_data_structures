{
  "nbformat": 4,
  "nbformat_minor": 0,
  "metadata": {
    "kernelspec": {
      "display_name": "Python 3",
      "language": "python",
      "name": "python3"
    },
    "language_info": {
      "codemirror_mode": {
        "name": "ipython",
        "version": 3
      },
      "file_extension": ".py",
      "mimetype": "text/x-python",
      "name": "python",
      "nbconvert_exporter": "python",
      "pygments_lexer": "ipython3",
      "version": "3.7.3"
    },
    "colab": {
      "name": "pythondatastructures.ipynb",
      "provenance": [],
      "include_colab_link": true
    }
  },
  "cells": [
    {
      "cell_type": "markdown",
      "metadata": {
        "id": "view-in-github",
        "colab_type": "text"
      },
      "source": [
        "<a href=\"https://colab.research.google.com/github/saidara/python_data_structures/blob/main/pythondatastructures.ipynb\" target=\"_parent\"><img src=\"https://colab.research.google.com/assets/colab-badge.svg\" alt=\"Open In Colab\"/></a>"
      ]
    },
    {
      "cell_type": "markdown",
      "metadata": {
        "id": "CAY1HNbZ-wC2"
      },
      "source": [
        "# Data Structures in python\n",
        "#### A Data structure is a collection of Data elements that is structured in someway."
      ]
    },
    {
      "cell_type": "markdown",
      "metadata": {
        "id": "QTss1Rqu-wC9"
      },
      "source": [
        "# 1. Lists\n",
        "#### --> List is one of the sequence data structure\n",
        "#### --> List is a collenction of ietms such as strings,integer, even other lists.\n",
        "#### --> Lists are enclosed in [] and each ietm is seperated by comma \n",
        "#### --> Lists are mutable"
      ]
    },
    {
      "cell_type": "code",
      "metadata": {
        "id": "-KqLxl2q-wDA"
      },
      "source": [
        "#List creation\n",
        "emptylist =[]\n"
      ],
      "execution_count": null,
      "outputs": []
    },
    {
      "cell_type": "code",
      "metadata": {
        "id": "wgMRDwFj-wDB"
      },
      "source": [
        "list1 = ['one','two','three'] # string \n",
        "list2 = [1,2,3,4] # integer\n",
        "list3 = [[1,2],[3,4]] # List of lists\n",
        "list4 = [1,'india',24,1.24] #list of different datatypes"
      ],
      "execution_count": null,
      "outputs": []
    },
    {
      "cell_type": "code",
      "metadata": {
        "id": "KOWReJ3T-wDD",
        "outputId": "37a071d7-c2a4-4e7e-d092-10b435c6d983"
      },
      "source": [
        "#List length \n",
        "print(len(list1))"
      ],
      "execution_count": null,
      "outputs": [
        {
          "output_type": "stream",
          "text": [
            "3\n"
          ],
          "name": "stdout"
        }
      ]
    },
    {
      "cell_type": "code",
      "metadata": {
        "id": "pbtIgDJj-wDH",
        "outputId": "cf70e11b-c28e-4e33-d04e-fd8ebda2af34"
      },
      "source": [
        "# List insert & remove\n",
        "list1.insert(2,'four')  # it will add an element Y at location X\n",
        "list1.remove('four')  # it will remove the first occurance of an item from list\n",
        "print(list1)"
      ],
      "execution_count": null,
      "outputs": [
        {
          "output_type": "stream",
          "text": [
            "['one', 'two', 'four', 'three']\n"
          ],
          "name": "stdout"
        }
      ]
    },
    {
      "cell_type": "code",
      "metadata": {
        "id": "XACvGI1f-wDJ",
        "outputId": "08a92f59-e6d3-4a11-a43b-166ebc4021fd"
      },
      "source": [
        "# list append and extend \n",
        "list1.append(list2) # it will append list2 at last index of list1\n",
        "list1.extend(list2) # it will add items of list2 from last last index of list1\n",
        "print(list1)"
      ],
      "execution_count": null,
      "outputs": [
        {
          "output_type": "stream",
          "text": [
            "['one', 'two', 'four', 'three', [1, 2, 3, 4], 1, 2, 3, 4]\n"
          ],
          "name": "stdout"
        }
      ]
    },
    {
      "cell_type": "code",
      "metadata": {
        "id": "e5yITHS2-wDL",
        "outputId": "dc4ca154-8652-4c3a-da09-82e610d34c10"
      },
      "source": [
        "# List delete -- syntax: del listname[index]\n",
        "del list1[2]\n",
        "print(list1)\n",
        "a = list1.pop(3) # it will get ietms from list \n",
        "print(a)\n",
        "print(list1)"
      ],
      "execution_count": null,
      "outputs": [
        {
          "output_type": "stream",
          "text": [
            "['one', 'two', 1, 2, 3, 4]\n",
            "2\n",
            "['one', 'two', 1, 3, 4]\n"
          ],
          "name": "stdout"
        }
      ]
    },
    {
      "cell_type": "code",
      "metadata": {
        "id": "QJPxe_Zu-wDN",
        "outputId": "a670b192-0261-4bd4-dd12-8a2b5f230b22"
      },
      "source": [
        "# List reverse & sortng\n",
        "list1=[4,1,9,2,0]\n",
        "sorted_list1=sorted(list1)\n",
        "print(sorted_list1)\n",
        "reverse_sorted_list1 = sorted(list1,reverse=True)\n",
        "print(reverse_sorted_list1)\n",
        "print(list1) # original list unchanged"
      ],
      "execution_count": null,
      "outputs": [
        {
          "output_type": "stream",
          "text": [
            "[0, 1, 2, 4, 9]\n",
            "[9, 4, 2, 1, 0]\n",
            "[4, 1, 9, 2, 0]\n"
          ],
          "name": "stdout"
        }
      ]
    },
    {
      "cell_type": "code",
      "metadata": {
        "id": "G8Zuwv_3-wDO",
        "outputId": "18e139da-7fc1-4da8-91f2-8a2a6c264a6c"
      },
      "source": [
        "list1.sort()  # here original list also gets modified\n",
        "print(list1)"
      ],
      "execution_count": null,
      "outputs": [
        {
          "output_type": "stream",
          "text": [
            "[0, 1, 2, 4, 9]\n"
          ],
          "name": "stdout"
        }
      ]
    },
    {
      "cell_type": "code",
      "metadata": {
        "id": "5Vt0MmyD-wDP",
        "outputId": "9cde8cad-93d9-4a26-9e5c-637ffc13eca2"
      },
      "source": [
        "# splitting string to create list\n",
        "str=\"one,two,three,four,five\"\n",
        "str_list = str.split(',')\n",
        "print(str_list)"
      ],
      "execution_count": null,
      "outputs": [
        {
          "output_type": "stream",
          "text": [
            "['one', 'two', 'three', 'four', 'five']\n"
          ],
          "name": "stdout"
        }
      ]
    },
    {
      "cell_type": "code",
      "metadata": {
        "id": "sdvSUgdC-wDQ",
        "outputId": "ca5ccbd8-ba55-4c3e-9346-dbad9df44b51"
      },
      "source": [
        "# slicing\n",
        "lst = [10,20,30,40,50,60]\n",
        "print(lst[:])"
      ],
      "execution_count": null,
      "outputs": [
        {
          "output_type": "stream",
          "text": [
            "[10, 20, 30, 40, 50, 60]\n"
          ],
          "name": "stdout"
        }
      ]
    },
    {
      "cell_type": "code",
      "metadata": {
        "id": "vbe2bYzL-wDR",
        "outputId": "6e27646d-e8e9-424d-8f4b-da354098f902"
      },
      "source": [
        "print(lst[0:4])"
      ],
      "execution_count": null,
      "outputs": [
        {
          "output_type": "stream",
          "text": [
            "[10, 20, 30, 40]\n"
          ],
          "name": "stdout"
        }
      ]
    },
    {
      "cell_type": "code",
      "metadata": {
        "id": "eTWKs5hv-wDS",
        "outputId": "b14a55b6-656a-4746-8e1f-2a635c53d6aa"
      },
      "source": [
        "print(lst[::2])  #alternate items from list"
      ],
      "execution_count": null,
      "outputs": [
        {
          "output_type": "stream",
          "text": [
            "[10, 30, 50]\n"
          ],
          "name": "stdout"
        }
      ]
    },
    {
      "cell_type": "code",
      "metadata": {
        "id": "I2q9Ah9S-wDU",
        "outputId": "4811e59f-9239-47b3-ac82-458786d36162"
      },
      "source": [
        "print(lst[2::2]) #print alternate elements from start index "
      ],
      "execution_count": null,
      "outputs": [
        {
          "output_type": "stream",
          "text": [
            "[30, 50]\n"
          ],
          "name": "stdout"
        }
      ]
    },
    {
      "cell_type": "code",
      "metadata": {
        "id": "f-zG7H_k-wDV",
        "outputId": "b0951cf6-bb38-4480-a73a-ee2b81f8d2f7"
      },
      "source": [
        "# List extend using \"+\"\n",
        "lst1 = [1,2,3,4]\n",
        "lst2 = ['hyderabad','bangolore','chennai','delhi']\n",
        "new_lst = lst1+lst2\n",
        "print(new_lst)"
      ],
      "execution_count": null,
      "outputs": [
        {
          "output_type": "stream",
          "text": [
            "[1, 2, 3, 4, 'hyderabad', 'bangolore', 'chennai', 'delhi']\n"
          ],
          "name": "stdout"
        }
      ]
    },
    {
      "cell_type": "code",
      "metadata": {
        "id": "q_SuWjeS-wDW",
        "outputId": "21400d9b-46e0-4c23-80ce-38e755a01e29"
      },
      "source": [
        "# list iem count\n",
        "num = [1,2,3,4,3,2,9,2,4,2,6]\n",
        "print(num.count(2))"
      ],
      "execution_count": null,
      "outputs": [
        {
          "output_type": "stream",
          "text": [
            "4\n"
          ],
          "name": "stdout"
        }
      ]
    },
    {
      "cell_type": "code",
      "metadata": {
        "id": "2Aa06mqP-wDX",
        "outputId": "31e70d2a-ce91-4327-fb64-23095aa6ab6c"
      },
      "source": [
        "# list looping\n",
        "lst = [1,2,4,'india']\n",
        "for i in lst:\n",
        "    print(i)"
      ],
      "execution_count": null,
      "outputs": [
        {
          "output_type": "stream",
          "text": [
            "1\n",
            "2\n",
            "4\n",
            "india\n"
          ],
          "name": "stdout"
        }
      ]
    },
    {
      "cell_type": "code",
      "metadata": {
        "id": "HG2rIZCP-wDY",
        "outputId": "7b575e54-8d3c-4485-c64b-8611c195ef08"
      },
      "source": [
        "# without list comprehension\n",
        "sq_list =[]\n",
        "for i in range(10):\n",
        "    sq_list.append(i**2)\n",
        "print(sq_list)"
      ],
      "execution_count": null,
      "outputs": [
        {
          "output_type": "stream",
          "text": [
            "[0, 1, 4, 9, 16, 25, 36, 49, 64, 81]\n"
          ],
          "name": "stdout"
        }
      ]
    },
    {
      "cell_type": "code",
      "metadata": {
        "id": "gz7zjoHq-wDZ",
        "outputId": "bcbc8a61-01d3-4fe8-9ac7-7f7dd46fefbe"
      },
      "source": [
        "# with list comprehension\n",
        "sq_list = [i**2 for i in range(5)]\n",
        "print(sq_list)"
      ],
      "execution_count": null,
      "outputs": [
        {
          "output_type": "stream",
          "text": [
            "[0, 1, 4, 9, 16]\n"
          ],
          "name": "stdout"
        }
      ]
    },
    {
      "cell_type": "code",
      "metadata": {
        "id": "zTELhExl-wDa",
        "outputId": "76e61d6e-9121-4a90-e06c-cb6e43ab9bd6"
      },
      "source": [
        "# examples of list coimprehension\n",
        "lst = [-10,-20,0,10,20]\n",
        "new_lst = [i*2 for i in lst]\n",
        "print(new_lst)"
      ],
      "execution_count": null,
      "outputs": [
        {
          "output_type": "stream",
          "text": [
            "[-20, -40, 0, 20, 40]\n"
          ],
          "name": "stdout"
        }
      ]
    },
    {
      "cell_type": "code",
      "metadata": {
        "id": "EXc73LzD-wDc",
        "outputId": "12adbe0b-2deb-4aaa-93c5-7e0c6faa109b"
      },
      "source": [
        "new_lst = [i for i in lst if i>=0]\n",
        "print(new_lst)"
      ],
      "execution_count": null,
      "outputs": [
        {
          "output_type": "stream",
          "text": [
            "[0, 10, 20]\n"
          ],
          "name": "stdout"
        }
      ]
    },
    {
      "cell_type": "code",
      "metadata": {
        "id": "EcqBZgQu-wDc",
        "outputId": "5370ab5d-4381-4abd-a2a0-de3767d4eabd"
      },
      "source": [
        "new_lst = [(i,i**2) for i in range(5)]\n",
        "print(new_lst)"
      ],
      "execution_count": null,
      "outputs": [
        {
          "output_type": "stream",
          "text": [
            "[(0, 0), (1, 1), (2, 4), (3, 9), (4, 16)]\n"
          ],
          "name": "stdout"
        }
      ]
    },
    {
      "cell_type": "code",
      "metadata": {
        "id": "Pg3ashvY-wDe",
        "outputId": "7b66f6b7-14b0-4bed-af3f-c67b2904e6cd"
      },
      "source": [
        "# transpose of a matrix without list comprehension\n",
        "\n",
        "matrix = [\n",
        "    [1,2,3,4],\n",
        "    [5,6,7,8],\n",
        "    [9,10,11,12]\n",
        "]\n",
        "trans = []\n",
        "for i in range(4):\n",
        "    lst =[]\n",
        "    for row in matrix:\n",
        "        lst.append(row[i])\n",
        "    trans.append(lst)    \n",
        "print(trans)\n",
        "    "
      ],
      "execution_count": null,
      "outputs": [
        {
          "output_type": "stream",
          "text": [
            "[[1, 5, 9], [2, 6, 10], [3, 7, 11], [4, 8, 12]]\n"
          ],
          "name": "stdout"
        }
      ]
    },
    {
      "cell_type": "code",
      "metadata": {
        "id": "pkxvXcvv-wDe",
        "outputId": "69baf2bf-b431-4fb2-8109-d02cb0a2a1fd"
      },
      "source": [
        "# transpose with list comprehension\n",
        "trans = [[row[i] for row in matrix] for i in range(4)]\n",
        "print(trans)"
      ],
      "execution_count": null,
      "outputs": [
        {
          "output_type": "stream",
          "text": [
            "[[1, 5, 9], [2, 6, 10], [3, 7, 11], [4, 8, 12]]\n"
          ],
          "name": "stdout"
        }
      ]
    },
    {
      "cell_type": "markdown",
      "metadata": {
        "id": "Ok5ju0y5-wDf"
      },
      "source": [
        "# 2. Tuples\n",
        "####  Tuple is similar to list expect tuples are imutable i.e we can't change \n",
        "####     elements of tuple once it is assigned."
      ]
    },
    {
      "cell_type": "code",
      "metadata": {
        "id": "RVMyu50g-wDg"
      },
      "source": [
        "#empty tuple\n",
        "tup=()"
      ],
      "execution_count": null,
      "outputs": []
    },
    {
      "cell_type": "code",
      "metadata": {
        "id": "DTU4JOy0-wDg",
        "outputId": "f4daac43-d58c-4c9d-d580-556c6d7b4210"
      },
      "source": [
        "tup=(1,2,3,4,5) #integer \n",
        "print(tup)"
      ],
      "execution_count": null,
      "outputs": [
        {
          "output_type": "stream",
          "text": [
            "(1, 2, 3, 4, 5)\n"
          ],
          "name": "stdout"
        }
      ]
    },
    {
      "cell_type": "code",
      "metadata": {
        "id": "gkNYZJxc-wDh",
        "outputId": "f32aff7e-5f6c-464e-91b2-845fc9bf29b9"
      },
      "source": [
        "tup=(12,'india',52,'abcd') #mixed datatypes \n",
        "print(tup)"
      ],
      "execution_count": null,
      "outputs": [
        {
          "output_type": "stream",
          "text": [
            "(12, 'india', 52, 'abcd')\n"
          ],
          "name": "stdout"
        }
      ]
    },
    {
      "cell_type": "code",
      "metadata": {
        "id": "_vXA-Sn--wDh",
        "outputId": "39291fb5-4f4d-44b8-bae6-e9e39d16a3ee"
      },
      "source": [
        "tup=(1,(2,3,4),[12,'india',52,'abcd'])\n",
        "print(tup)"
      ],
      "execution_count": null,
      "outputs": [
        {
          "output_type": "stream",
          "text": [
            "(1, (2, 3, 4), [12, 'india', 52, 'abcd'])\n"
          ],
          "name": "stdout"
        }
      ]
    },
    {
      "cell_type": "code",
      "metadata": {
        "id": "lJM4DajF-wDi",
        "outputId": "2990708d-b047-48db-a1c0-0ffd9b72c46f"
      },
      "source": [
        "tup=('india') \n",
        "type(tup) # only parenenthesis is not enough for one element"
      ],
      "execution_count": null,
      "outputs": [
        {
          "output_type": "execute_result",
          "data": {
            "text/plain": [
              "str"
            ]
          },
          "metadata": {
            "tags": []
          },
          "execution_count": 65
        }
      ]
    },
    {
      "cell_type": "code",
      "metadata": {
        "id": "xV6HQCjf-wDj",
        "outputId": "0370222b-d6ca-4b3a-ce77-94e7c1a3a517"
      },
      "source": [
        "tup=('india',) # need camma for single element\n",
        "type(tup)"
      ],
      "execution_count": null,
      "outputs": [
        {
          "output_type": "execute_result",
          "data": {
            "text/plain": [
              "tuple"
            ]
          },
          "metadata": {
            "tags": []
          },
          "execution_count": 66
        }
      ]
    },
    {
      "cell_type": "code",
      "metadata": {
        "id": "k-VubYS2-wDj",
        "outputId": "f0a75455-d127-46cc-badb-7ced61b4b20f"
      },
      "source": [
        "tup='india',  # parenethesis is optional for single element\n",
        "print(type(tup))\n",
        "print(tup)"
      ],
      "execution_count": null,
      "outputs": [
        {
          "output_type": "stream",
          "text": [
            "<class 'tuple'>\n",
            "('india',)\n"
          ],
          "name": "stdout"
        }
      ]
    },
    {
      "cell_type": "code",
      "metadata": {
        "id": "_eB5D5fo-wDk",
        "outputId": "117f6509-e02e-44cf-9ab8-931fc6bb86bc"
      },
      "source": [
        "# Accessing elements in tuple\n",
        "tup = ('hyderabad','bangolore','chennai','delhi')\n",
        "print(tup[1])"
      ],
      "execution_count": null,
      "outputs": [
        {
          "output_type": "stream",
          "text": [
            "bangolore\n"
          ],
          "name": "stdout"
        }
      ]
    },
    {
      "cell_type": "code",
      "metadata": {
        "id": "lYphJVIk-wDl",
        "outputId": "9f943d4a-0fd9-40c3-c7a4-538a6d62f629"
      },
      "source": [
        "print(tup[-1])"
      ],
      "execution_count": null,
      "outputs": [
        {
          "output_type": "stream",
          "text": [
            "delhi\n"
          ],
          "name": "stdout"
        }
      ]
    },
    {
      "cell_type": "code",
      "metadata": {
        "id": "HLIBNW91-wDl",
        "outputId": "a4d3f850-c17e-4a4b-a0da-2b10e9018ee6"
      },
      "source": [
        "# nested tuple\n",
        "tup = ('india',('hyderabad','bangolore','chennai','delhi'))\n",
        "print(tup[1])"
      ],
      "execution_count": null,
      "outputs": [
        {
          "output_type": "stream",
          "text": [
            "('hyderabad', 'bangolore', 'chennai', 'delhi')\n"
          ],
          "name": "stdout"
        }
      ]
    },
    {
      "cell_type": "code",
      "metadata": {
        "id": "gE622dx3-wDm",
        "outputId": "dbe6066f-b8a8-453d-a6f4-ff0ff148fa3f"
      },
      "source": [
        "print(tup[1][0])"
      ],
      "execution_count": null,
      "outputs": [
        {
          "output_type": "stream",
          "text": [
            "hyderabad\n"
          ],
          "name": "stdout"
        }
      ]
    },
    {
      "cell_type": "code",
      "metadata": {
        "id": "Pmm080wp-wDm",
        "outputId": "223304df-62f9-4d0f-c0e2-f860932bbf58"
      },
      "source": [
        "# slicing\n",
        "tup = (1,2,3,4,5,6)\n",
        "print(tup[1:4])"
      ],
      "execution_count": null,
      "outputs": [
        {
          "output_type": "stream",
          "text": [
            "(2, 3, 4)\n"
          ],
          "name": "stdout"
        }
      ]
    },
    {
      "cell_type": "code",
      "metadata": {
        "id": "ot_a7QkK-wDn",
        "outputId": "d8b8c114-ddea-48fe-82fc-681d3e9f9b7f"
      },
      "source": [
        "print(tup[:-2])"
      ],
      "execution_count": null,
      "outputs": [
        {
          "output_type": "stream",
          "text": [
            "(1, 2, 3, 4)\n"
          ],
          "name": "stdout"
        }
      ]
    },
    {
      "cell_type": "code",
      "metadata": {
        "id": "cvP7U-4T-wDo",
        "outputId": "c682df99-690d-4432-965e-a7f248b9ee5f"
      },
      "source": [
        "print(tup[:])"
      ],
      "execution_count": null,
      "outputs": [
        {
          "output_type": "stream",
          "text": [
            "(1, 2, 3, 4, 5, 6)\n"
          ],
          "name": "stdout"
        }
      ]
    },
    {
      "cell_type": "code",
      "metadata": {
        "id": "06TBUz06-wDo",
        "outputId": "2d7e6c9f-94ee-49ff-b692-939cdad7147d"
      },
      "source": [
        "#changing a tuple\n",
        "tup = (0,2,3,4,[5,6,7,8])\n",
        "tup[2] = 'X' # we get type error bcaz tuples are imutable"
      ],
      "execution_count": null,
      "outputs": [
        {
          "output_type": "error",
          "ename": "TypeError",
          "evalue": "'tuple' object does not support item assignment",
          "traceback": [
            "\u001b[1;31m---------------------------------------------------------------------------\u001b[0m",
            "\u001b[1;31mTypeError\u001b[0m                                 Traceback (most recent call last)",
            "\u001b[1;32m<ipython-input-78-d970bf65bbdd>\u001b[0m in \u001b[0;36m<module>\u001b[1;34m\u001b[0m\n\u001b[0;32m      1\u001b[0m \u001b[1;31m#changing a tuple\u001b[0m\u001b[1;33m\u001b[0m\u001b[1;33m\u001b[0m\u001b[1;33m\u001b[0m\u001b[0m\n\u001b[0;32m      2\u001b[0m \u001b[0mtup\u001b[0m \u001b[1;33m=\u001b[0m \u001b[1;33m(\u001b[0m\u001b[1;36m0\u001b[0m\u001b[1;33m,\u001b[0m\u001b[1;36m2\u001b[0m\u001b[1;33m,\u001b[0m\u001b[1;36m3\u001b[0m\u001b[1;33m,\u001b[0m\u001b[1;36m4\u001b[0m\u001b[1;33m,\u001b[0m\u001b[1;33m[\u001b[0m\u001b[1;36m5\u001b[0m\u001b[1;33m,\u001b[0m\u001b[1;36m6\u001b[0m\u001b[1;33m,\u001b[0m\u001b[1;36m7\u001b[0m\u001b[1;33m,\u001b[0m\u001b[1;36m8\u001b[0m\u001b[1;33m]\u001b[0m\u001b[1;33m)\u001b[0m\u001b[1;33m\u001b[0m\u001b[1;33m\u001b[0m\u001b[0m\n\u001b[1;32m----> 3\u001b[1;33m \u001b[0mtup\u001b[0m\u001b[1;33m[\u001b[0m\u001b[1;36m2\u001b[0m\u001b[1;33m]\u001b[0m \u001b[1;33m=\u001b[0m \u001b[1;34m'X'\u001b[0m\u001b[1;33m\u001b[0m\u001b[1;33m\u001b[0m\u001b[0m\n\u001b[0m",
            "\u001b[1;31mTypeError\u001b[0m: 'tuple' object does not support item assignment"
          ]
        }
      ]
    },
    {
      "cell_type": "code",
      "metadata": {
        "id": "43GfdJDe-wDp",
        "outputId": "d2103c46-b00d-4e8b-da1b-f44afce01751"
      },
      "source": [
        "tup[4][1] = 'india'\n",
        "print(tup)"
      ],
      "execution_count": null,
      "outputs": [
        {
          "output_type": "stream",
          "text": [
            "(0, 2, 3, 4, [5, 'india', 7, 8])\n"
          ],
          "name": "stdout"
        }
      ]
    },
    {
      "cell_type": "code",
      "metadata": {
        "id": "neBzdYs5-wDq",
        "outputId": "51b9d503-6fd7-4b53-95d5-211961d23e05"
      },
      "source": [
        "# concatinanting tuple\n",
        "tup = (1,2,3) + (4,5,6)\n",
        "print(tup)"
      ],
      "execution_count": null,
      "outputs": [
        {
          "output_type": "stream",
          "text": [
            "(1, 2, 3, 4, 5, 6)\n"
          ],
          "name": "stdout"
        }
      ]
    },
    {
      "cell_type": "code",
      "metadata": {
        "id": "YzzI7XsK-wDr",
        "outputId": "c162fd45-f48d-4e87-dd64-00c94694864b"
      },
      "source": [
        "# repeate the elements of tuple for given no.of times\n",
        "tup = (('india',)*5)\n",
        "print(tup)"
      ],
      "execution_count": null,
      "outputs": [
        {
          "output_type": "stream",
          "text": [
            "('india', 'india', 'india', 'india', 'india')\n"
          ],
          "name": "stdout"
        }
      ]
    },
    {
      "cell_type": "code",
      "metadata": {
        "id": "eXScKR-u-wDs",
        "outputId": "25626a4c-23dc-4105-9630-0757393cd0e7"
      },
      "source": [
        "# Tuple deletion\n",
        "# Note: we cannot able to delete or remove elements in tuple ...bcaz tuples are imutable\n",
        "tup.remove('india')"
      ],
      "execution_count": null,
      "outputs": [
        {
          "output_type": "error",
          "ename": "AttributeError",
          "evalue": "'tuple' object has no attribute 'remove'",
          "traceback": [
            "\u001b[1;31m---------------------------------------------------------------------------\u001b[0m",
            "\u001b[1;31mAttributeError\u001b[0m                            Traceback (most recent call last)",
            "\u001b[1;32m<ipython-input-82-39a0e899176a>\u001b[0m in \u001b[0;36m<module>\u001b[1;34m\u001b[0m\n\u001b[0;32m      1\u001b[0m \u001b[1;31m# Tuple deletion\u001b[0m\u001b[1;33m\u001b[0m\u001b[1;33m\u001b[0m\u001b[1;33m\u001b[0m\u001b[0m\n\u001b[0;32m      2\u001b[0m \u001b[1;31m# Note: we cannot able to delete or remove elements in tuple ...bcaz tuples are imutable\u001b[0m\u001b[1;33m\u001b[0m\u001b[1;33m\u001b[0m\u001b[1;33m\u001b[0m\u001b[0m\n\u001b[1;32m----> 3\u001b[1;33m \u001b[0mtup\u001b[0m\u001b[1;33m.\u001b[0m\u001b[0mremove\u001b[0m\u001b[1;33m(\u001b[0m\u001b[1;34m'india'\u001b[0m\u001b[1;33m)\u001b[0m\u001b[1;33m\u001b[0m\u001b[1;33m\u001b[0m\u001b[0m\n\u001b[0m",
            "\u001b[1;31mAttributeError\u001b[0m: 'tuple' object has no attribute 'remove'"
          ]
        }
      ]
    },
    {
      "cell_type": "code",
      "metadata": {
        "id": "eaTdawsE-wDt",
        "outputId": "90b4a4fa-f320-49d3-e73e-510993f42d11"
      },
      "source": [
        "# tuple count \n",
        "tup = (1,2,3,4,2,3,4,6,2,2,1,2)\n",
        "tup.count(2)"
      ],
      "execution_count": null,
      "outputs": [
        {
          "output_type": "execute_result",
          "data": {
            "text/plain": [
              "5"
            ]
          },
          "metadata": {
            "tags": []
          },
          "execution_count": 83
        }
      ]
    },
    {
      "cell_type": "code",
      "metadata": {
        "id": "I9guNQSG-wDu",
        "outputId": "3431bfa1-dcdf-47ea-bdeb-6b1592e158e0"
      },
      "source": [
        "# tuple index\n",
        "print(tup.index(4))  # returns index of first occurance"
      ],
      "execution_count": null,
      "outputs": [
        {
          "output_type": "stream",
          "text": [
            "3\n"
          ],
          "name": "stdout"
        }
      ]
    },
    {
      "cell_type": "code",
      "metadata": {
        "id": "-3zxNASL-wDu",
        "outputId": "f8ad9fba-eeab-4cc6-9e41-613a4b6d3543"
      },
      "source": [
        "# tuple membership\n",
        "print(3 in tup)\n",
        "print(5 in tup)"
      ],
      "execution_count": null,
      "outputs": [
        {
          "output_type": "stream",
          "text": [
            "True\n",
            "False\n"
          ],
          "name": "stdout"
        }
      ]
    },
    {
      "cell_type": "code",
      "metadata": {
        "id": "57IdgrNx-wDv",
        "outputId": "3e3faff5-ba55-4f9c-b815-300acbca682f"
      },
      "source": [
        "tup =()\n",
        "print(dir(tup))"
      ],
      "execution_count": null,
      "outputs": [
        {
          "output_type": "stream",
          "text": [
            "['__add__', '__class__', '__contains__', '__delattr__', '__dir__', '__doc__', '__eq__', '__format__', '__ge__', '__getattribute__', '__getitem__', '__getnewargs__', '__gt__', '__hash__', '__init__', '__init_subclass__', '__iter__', '__le__', '__len__', '__lt__', '__mul__', '__ne__', '__new__', '__reduce__', '__reduce_ex__', '__repr__', '__rmul__', '__setattr__', '__sizeof__', '__str__', '__subclasshook__', 'count', 'index']\n"
          ],
          "name": "stdout"
        }
      ]
    },
    {
      "cell_type": "code",
      "metadata": {
        "id": "d5SjjhIs-wDw",
        "outputId": "9e3a7cda-a4ea-475e-ac32-f9e55a221e1e"
      },
      "source": [
        "# Built-in functions\n",
        "\n",
        "tup = (1,4,8,2,3,9,5)\n",
        "print(len(tup))"
      ],
      "execution_count": null,
      "outputs": [
        {
          "output_type": "stream",
          "text": [
            "7\n"
          ],
          "name": "stdout"
        }
      ]
    },
    {
      "cell_type": "code",
      "metadata": {
        "id": "6TwBdLDA-wDw",
        "outputId": "f85592b8-dfde-4b54-e2dd-b4e15ee977ff"
      },
      "source": [
        "new_tup = sorted(tup) # it creates new list as tuples are imutable we can't use sort()\n",
        "print(new_tup)"
      ],
      "execution_count": null,
      "outputs": [
        {
          "output_type": "stream",
          "text": [
            "[1, 2, 3, 4, 5, 8, 9]\n"
          ],
          "name": "stdout"
        }
      ]
    },
    {
      "cell_type": "code",
      "metadata": {
        "id": "G-yw4fhm-wDx",
        "outputId": "c854812b-7ec6-44b3-e82e-1b6ba8f2c29d"
      },
      "source": [
        "print(max(tup))"
      ],
      "execution_count": null,
      "outputs": [
        {
          "output_type": "stream",
          "text": [
            "9\n"
          ],
          "name": "stdout"
        }
      ]
    },
    {
      "cell_type": "code",
      "metadata": {
        "id": "TvhTSFnk-wDy",
        "outputId": "f261a722-df8d-4673-ff9a-8b1023d79acb"
      },
      "source": [
        "print(min(tup))"
      ],
      "execution_count": null,
      "outputs": [
        {
          "output_type": "stream",
          "text": [
            "1\n"
          ],
          "name": "stdout"
        }
      ]
    },
    {
      "cell_type": "code",
      "metadata": {
        "id": "p19N97pZ-wDy",
        "outputId": "048f4763-9737-4fef-8191-4c386525bfb1"
      },
      "source": [
        "print(sum(tup))"
      ],
      "execution_count": null,
      "outputs": [
        {
          "output_type": "stream",
          "text": [
            "32\n"
          ],
          "name": "stdout"
        }
      ]
    },
    {
      "cell_type": "markdown",
      "metadata": {
        "id": "WmWrXE-J-wD_"
      },
      "source": [
        "# 3. Sets\n",
        "####  A set is an unordered collection of items and each item is unique.\n",
        "#### Sets are mutable..however, since they are unordered, indexing has no meaning.\n",
        "#### We cannot access or change an element of a set using indexing or slicing.\n",
        "#### Sets are used to perform mathematical set operations like union, intersection,symmetric difference etc.."
      ]
    },
    {
      "cell_type": "code",
      "metadata": {
        "id": "iD8rbTrE-wEB",
        "outputId": "11903974-0577-46ee-e2bf-ef99f4c12a26"
      },
      "source": [
        "# set creation\n",
        "s = {1,2,3,4}\n",
        "print(s)"
      ],
      "execution_count": null,
      "outputs": [
        {
          "output_type": "stream",
          "text": [
            "{1, 2, 3, 4}\n"
          ],
          "name": "stdout"
        }
      ]
    },
    {
      "cell_type": "code",
      "metadata": {
        "id": "EfA7PyyS-wEC",
        "outputId": "fa90fb02-2d58-48f3-e7e9-310a009c7a8c"
      },
      "source": [
        "s = {1,2,3}\n",
        "print(dir(s))"
      ],
      "execution_count": null,
      "outputs": [
        {
          "output_type": "stream",
          "text": [
            "['__and__', '__class__', '__contains__', '__delattr__', '__dir__', '__doc__', '__eq__', '__format__', '__ge__', '__getattribute__', '__gt__', '__hash__', '__iand__', '__init__', '__init_subclass__', '__ior__', '__isub__', '__iter__', '__ixor__', '__le__', '__len__', '__lt__', '__ne__', '__new__', '__or__', '__rand__', '__reduce__', '__reduce_ex__', '__repr__', '__ror__', '__rsub__', '__rxor__', '__setattr__', '__sizeof__', '__str__', '__sub__', '__subclasshook__', '__xor__', 'add', 'clear', 'copy', 'difference', 'difference_update', 'discard', 'intersection', 'intersection_update', 'isdisjoint', 'issubset', 'issuperset', 'pop', 'remove', 'symmetric_difference', 'symmetric_difference_update', 'union', 'update']\n"
          ],
          "name": "stdout"
        }
      ]
    },
    {
      "cell_type": "code",
      "metadata": {
        "id": "c1ZRnkxL-wED",
        "outputId": "405cd3d1-4daf-4bf4-c1d7-6dd52832e87e"
      },
      "source": [
        "s = {1,2,3,4,1,2} # as set elements are unique...i.e didn't have duplicates\n",
        "print(s)"
      ],
      "execution_count": null,
      "outputs": [
        {
          "output_type": "stream",
          "text": [
            "{1, 2, 3, 4}\n"
          ],
          "name": "stdout"
        }
      ]
    },
    {
      "cell_type": "code",
      "metadata": {
        "id": "jzMDVcxu-wED",
        "outputId": "7d4f2771-9bd3-4cb3-de74-71b77bafd19e"
      },
      "source": [
        "# we can make set from a list\n",
        "s = set([1,2,3,1,4])\n",
        "print(s)"
      ],
      "execution_count": null,
      "outputs": [
        {
          "output_type": "stream",
          "text": [
            "{1, 2, 3, 4}\n"
          ],
          "name": "stdout"
        }
      ]
    },
    {
      "cell_type": "code",
      "metadata": {
        "id": "7Doi6S3d-wEE",
        "outputId": "15052f30-d027-4950-c8f3-0ac3432b7f35"
      },
      "source": [
        "s = set()\n",
        "print(type(s))"
      ],
      "execution_count": null,
      "outputs": [
        {
          "output_type": "stream",
          "text": [
            "<class 'set'>\n"
          ],
          "name": "stdout"
        }
      ]
    },
    {
      "cell_type": "code",
      "metadata": {
        "id": "nuBqoFe0-wEF",
        "outputId": "a0646312-bd41-458b-c045-eb0fc684be02"
      },
      "source": [
        "s = {1,2,5}\n",
        "print(s[1]) # we can't able to access using index..bcaz sets are unodered.\n"
      ],
      "execution_count": null,
      "outputs": [
        {
          "output_type": "error",
          "ename": "TypeError",
          "evalue": "'set' object is not subscriptable",
          "traceback": [
            "\u001b[1;31m---------------------------------------------------------------------------\u001b[0m",
            "\u001b[1;31mTypeError\u001b[0m                                 Traceback (most recent call last)",
            "\u001b[1;32m<ipython-input-96-a88847ceabb9>\u001b[0m in \u001b[0;36m<module>\u001b[1;34m\u001b[0m\n\u001b[0;32m      1\u001b[0m \u001b[0ms\u001b[0m \u001b[1;33m=\u001b[0m \u001b[1;33m{\u001b[0m\u001b[1;36m1\u001b[0m\u001b[1;33m,\u001b[0m\u001b[1;36m2\u001b[0m\u001b[1;33m,\u001b[0m\u001b[1;36m5\u001b[0m\u001b[1;33m}\u001b[0m\u001b[1;33m\u001b[0m\u001b[1;33m\u001b[0m\u001b[0m\n\u001b[1;32m----> 2\u001b[1;33m \u001b[0mprint\u001b[0m\u001b[1;33m(\u001b[0m\u001b[0ms\u001b[0m\u001b[1;33m[\u001b[0m\u001b[1;36m1\u001b[0m\u001b[1;33m]\u001b[0m\u001b[1;33m)\u001b[0m \u001b[1;31m# we can't able to access using index..bcaz sets are unodered.\u001b[0m\u001b[1;33m\u001b[0m\u001b[1;33m\u001b[0m\u001b[0m\n\u001b[0m",
            "\u001b[1;31mTypeError\u001b[0m: 'set' object is not subscriptable"
          ]
        }
      ]
    },
    {
      "cell_type": "code",
      "metadata": {
        "id": "PlgDC_um-wEF",
        "outputId": "b56d575d-bae0-4496-d802-dfac8ea8b5de"
      },
      "source": [
        "s.add(3)\n",
        "print(s)"
      ],
      "execution_count": null,
      "outputs": [
        {
          "output_type": "stream",
          "text": [
            "{1, 2, 3, 5}\n"
          ],
          "name": "stdout"
        }
      ]
    },
    {
      "cell_type": "code",
      "metadata": {
        "id": "ukobDPS4-wEG",
        "outputId": "503a67c7-74cb-4355-84f8-cf24c59b0029"
      },
      "source": [
        "# adding multiple elements\n",
        "\n",
        "s.update([4,6,2])\n",
        "print(s)"
      ],
      "execution_count": null,
      "outputs": [
        {
          "output_type": "stream",
          "text": [
            "{1, 2, 3, 4, 5, 6}\n"
          ],
          "name": "stdout"
        }
      ]
    },
    {
      "cell_type": "code",
      "metadata": {
        "id": "1kiBd-56-wEH",
        "outputId": "2ae70621-922e-4313-de4b-01cbf27a9059"
      },
      "source": [
        "s.update([8,9],{10,12,3})\n",
        "print(s)"
      ],
      "execution_count": null,
      "outputs": [
        {
          "output_type": "stream",
          "text": [
            "{1, 2, 3, 4, 5, 6, 8, 9, 10, 12}\n"
          ],
          "name": "stdout"
        }
      ]
    },
    {
      "cell_type": "code",
      "metadata": {
        "id": "_dz0BocO-wEH",
        "outputId": "bc70eb6e-edd3-4cca-f73b-ea69f649b6c5"
      },
      "source": [
        "# remove elements from a set\n",
        "s = {1,2,3,5,4}\n",
        "print(s)\n",
        "s.discard(4)\n",
        "print(s)"
      ],
      "execution_count": null,
      "outputs": [
        {
          "output_type": "stream",
          "text": [
            "{1, 2, 3, 4, 5}\n",
            "{1, 2, 3, 5}\n"
          ],
          "name": "stdout"
        }
      ]
    },
    {
      "cell_type": "code",
      "metadata": {
        "id": "ZV1MIb7Y-wEI",
        "outputId": "f25a5f94-8468-4223-f4d9-a69d3fc1a883"
      },
      "source": [
        "s.remove(3)\n",
        "print(s)"
      ],
      "execution_count": null,
      "outputs": [
        {
          "output_type": "stream",
          "text": [
            "{1, 5}\n"
          ],
          "name": "stdout"
        }
      ]
    },
    {
      "cell_type": "code",
      "metadata": {
        "id": "WL7oqLTH-wEI",
        "outputId": "b871cbbf-103c-4866-83ca-1ba911d4b4f4"
      },
      "source": [
        "s.remove(7) # get key error bcaz 7 is not there in set"
      ],
      "execution_count": null,
      "outputs": [
        {
          "output_type": "error",
          "ename": "KeyError",
          "evalue": "7",
          "traceback": [
            "\u001b[1;31m---------------------------------------------------------------------------\u001b[0m",
            "\u001b[1;31mKeyError\u001b[0m                                  Traceback (most recent call last)",
            "\u001b[1;32m<ipython-input-108-cd2999217c43>\u001b[0m in \u001b[0;36m<module>\u001b[1;34m\u001b[0m\n\u001b[1;32m----> 1\u001b[1;33m \u001b[0ms\u001b[0m\u001b[1;33m.\u001b[0m\u001b[0mremove\u001b[0m\u001b[1;33m(\u001b[0m\u001b[1;36m7\u001b[0m\u001b[1;33m)\u001b[0m \u001b[1;31m# get key error bcaz 7 is not there in set\u001b[0m\u001b[1;33m\u001b[0m\u001b[1;33m\u001b[0m\u001b[0m\n\u001b[0m",
            "\u001b[1;31mKeyError\u001b[0m: 7"
          ]
        }
      ]
    },
    {
      "cell_type": "code",
      "metadata": {
        "id": "R2JtwPnw-wEJ",
        "outputId": "e7f13b85-c303-4695-e336-a5f4a0e0f650"
      },
      "source": [
        "s.discard(7) # doesn't raise error\n",
        "print(s)"
      ],
      "execution_count": null,
      "outputs": [
        {
          "output_type": "stream",
          "text": [
            "{1, 5}\n"
          ],
          "name": "stdout"
        }
      ]
    },
    {
      "cell_type": "code",
      "metadata": {
        "id": "JzitVk79-wEJ",
        "outputId": "7f291237-949b-4813-86ee-61fe3b23790e"
      },
      "source": [
        "s = {1,2,3,2,4,5,6}\n",
        "s.pop() # removes random element\n",
        "print(s)"
      ],
      "execution_count": null,
      "outputs": [
        {
          "output_type": "stream",
          "text": [
            "{2, 3, 4, 5, 6}\n"
          ],
          "name": "stdout"
        }
      ]
    },
    {
      "cell_type": "code",
      "metadata": {
        "id": "R7iQh62D-wEK",
        "outputId": "5c4916eb-0c5a-4261-f02b-9846f5b5505e"
      },
      "source": [
        "s.clear() # removes all items\n",
        "print(s)"
      ],
      "execution_count": null,
      "outputs": [
        {
          "output_type": "stream",
          "text": [
            "set()\n"
          ],
          "name": "stdout"
        }
      ]
    },
    {
      "cell_type": "code",
      "metadata": {
        "id": "4JfZjUSd-wEK",
        "outputId": "2163fabc-fcfd-493f-8790-d4fbb8c3b38c"
      },
      "source": [
        "# set operations\n",
        "s1 = {1,2,3,4,5}\n",
        "s2 = {3,4,5,6,7}\n",
        "print(s1|s2) # union"
      ],
      "execution_count": null,
      "outputs": [
        {
          "output_type": "stream",
          "text": [
            "{1, 2, 3, 4, 5, 6, 7}\n"
          ],
          "name": "stdout"
        }
      ]
    },
    {
      "cell_type": "code",
      "metadata": {
        "id": "vDRwelwi-wEL",
        "outputId": "02e58665-02fa-4c82-8bcd-9490e71dbcb3"
      },
      "source": [
        "print(s1.union(s2))"
      ],
      "execution_count": null,
      "outputs": [
        {
          "output_type": "stream",
          "text": [
            "{1, 2, 3, 4, 5, 6, 7}\n"
          ],
          "name": "stdout"
        }
      ]
    },
    {
      "cell_type": "code",
      "metadata": {
        "id": "mIbOIqPk-wEO",
        "outputId": "c15cb4cd-f9c3-4264-ee39-11626d233256"
      },
      "source": [
        "print(s1&s2) # intersection\n"
      ],
      "execution_count": null,
      "outputs": [
        {
          "output_type": "stream",
          "text": [
            "{3, 4, 5}\n"
          ],
          "name": "stdout"
        }
      ]
    },
    {
      "cell_type": "code",
      "metadata": {
        "id": "-jhtm30E-wEP",
        "outputId": "f567050b-6c8d-442c-826c-a61c6cfb404d"
      },
      "source": [
        "print(s1.intersection(s2))"
      ],
      "execution_count": null,
      "outputs": [
        {
          "output_type": "stream",
          "text": [
            "{3, 4, 5}\n"
          ],
          "name": "stdout"
        }
      ]
    },
    {
      "cell_type": "code",
      "metadata": {
        "id": "tII84_i0-wEQ",
        "outputId": "fd5abe13-30b6-4bed-f5e1-1dda29bd927b"
      },
      "source": [
        "# set difference  set A - intersection of A and B.\n",
        "\n",
        "print(s1-s2)\n"
      ],
      "execution_count": null,
      "outputs": [
        {
          "output_type": "stream",
          "text": [
            "{1, 2}\n"
          ],
          "name": "stdout"
        }
      ]
    },
    {
      "cell_type": "code",
      "metadata": {
        "id": "_jNATlnm-wEQ",
        "outputId": "b95f224e-494d-40a5-d379-22c97b8a91a1"
      },
      "source": [
        "# symmetric difference : (A union B) -(A intersection B)\n",
        "print(s1.symmetric_difference(s2))\n",
        "\n",
        "# or\n",
        "print(s1^s2)"
      ],
      "execution_count": null,
      "outputs": [
        {
          "output_type": "stream",
          "text": [
            "{1, 2, 6, 7}\n",
            "{1, 2, 6, 7}\n"
          ],
          "name": "stdout"
        }
      ]
    },
    {
      "cell_type": "code",
      "metadata": {
        "id": "qjT0tHOL-wER",
        "outputId": "cfe7ae0b-46ca-4a43-8607-a61a1c962e72"
      },
      "source": [
        "# find is subset\n",
        "s = {\"a\",\"b\",\"c\",\"d\",\"e\"}\n",
        "y = {\"c\",\"d\"}\n",
        "print(s.issubset(y))\n",
        "print(y.issubset(s))"
      ],
      "execution_count": null,
      "outputs": [
        {
          "output_type": "stream",
          "text": [
            "False\n",
            "True\n"
          ],
          "name": "stdout"
        }
      ]
    },
    {
      "cell_type": "markdown",
      "metadata": {
        "id": "GW8qsRTm-wER"
      },
      "source": [
        "# Frozen sets\n",
        "#### Frozen sets has the characteristics of sets, but we can't be chnaged once it is assigned\n",
        "#### Frozen Sets are immutable\n",
        "#### Sets being mutable and unhashable, they can't be used as dictionary keys on the otherhand, Frozen sets are hashable and can be used as keys to dictionary\n",
        "#### this data type supports methods like\n",
        "#### copy()\n",
        "#### difference() , intersection()\n",
        "#### isdisjoint(), issubset()\n",
        "#### issuperset(), symmetric_difference(), union().\n",
        "#### being immutable it doesn't have methods like add() or remove()"
      ]
    },
    {
      "cell_type": "code",
      "metadata": {
        "id": "Jz-5ljpz-wER",
        "outputId": "cec0202a-0388-4f66-b3d1-d192b6db815a"
      },
      "source": [
        "s1 = frozenset([1,2,3,4])\n",
        "s2 = frozenset([3,4,5,6])\n",
        "s1.add(5) #attribute error"
      ],
      "execution_count": null,
      "outputs": [
        {
          "output_type": "error",
          "ename": "AttributeError",
          "evalue": "'frozenset' object has no attribute 'add'",
          "traceback": [
            "\u001b[1;31m---------------------------------------------------------------------------\u001b[0m",
            "\u001b[1;31mAttributeError\u001b[0m                            Traceback (most recent call last)",
            "\u001b[1;32m<ipython-input-124-cd2ff13294fc>\u001b[0m in \u001b[0;36m<module>\u001b[1;34m\u001b[0m\n\u001b[0;32m      1\u001b[0m \u001b[0ms1\u001b[0m \u001b[1;33m=\u001b[0m \u001b[0mfrozenset\u001b[0m\u001b[1;33m(\u001b[0m\u001b[1;33m[\u001b[0m\u001b[1;36m1\u001b[0m\u001b[1;33m,\u001b[0m\u001b[1;36m2\u001b[0m\u001b[1;33m,\u001b[0m\u001b[1;36m3\u001b[0m\u001b[1;33m,\u001b[0m\u001b[1;36m4\u001b[0m\u001b[1;33m]\u001b[0m\u001b[1;33m)\u001b[0m\u001b[1;33m\u001b[0m\u001b[1;33m\u001b[0m\u001b[0m\n\u001b[0;32m      2\u001b[0m \u001b[0ms2\u001b[0m \u001b[1;33m=\u001b[0m \u001b[0mfrozenset\u001b[0m\u001b[1;33m(\u001b[0m\u001b[1;33m[\u001b[0m\u001b[1;36m3\u001b[0m\u001b[1;33m,\u001b[0m\u001b[1;36m4\u001b[0m\u001b[1;33m,\u001b[0m\u001b[1;36m5\u001b[0m\u001b[1;33m,\u001b[0m\u001b[1;36m6\u001b[0m\u001b[1;33m]\u001b[0m\u001b[1;33m)\u001b[0m\u001b[1;33m\u001b[0m\u001b[1;33m\u001b[0m\u001b[0m\n\u001b[1;32m----> 3\u001b[1;33m \u001b[0ms1\u001b[0m\u001b[1;33m.\u001b[0m\u001b[0madd\u001b[0m\u001b[1;33m(\u001b[0m\u001b[1;36m5\u001b[0m\u001b[1;33m)\u001b[0m \u001b[1;31m#type error\u001b[0m\u001b[1;33m\u001b[0m\u001b[1;33m\u001b[0m\u001b[0m\n\u001b[0m",
            "\u001b[1;31mAttributeError\u001b[0m: 'frozenset' object has no attribute 'add'"
          ]
        }
      ]
    },
    {
      "cell_type": "code",
      "metadata": {
        "id": "1Mreg-c8-wES",
        "outputId": "9d652ff1-3f4f-4882-f96d-fb1339c50788"
      },
      "source": [
        "print(s1[1]) # error bcaz sets doesn't supports indexing."
      ],
      "execution_count": null,
      "outputs": [
        {
          "output_type": "error",
          "ename": "TypeError",
          "evalue": "'frozenset' object is not subscriptable",
          "traceback": [
            "\u001b[1;31m---------------------------------------------------------------------------\u001b[0m",
            "\u001b[1;31mTypeError\u001b[0m                                 Traceback (most recent call last)",
            "\u001b[1;32m<ipython-input-125-b2075b2be323>\u001b[0m in \u001b[0;36m<module>\u001b[1;34m\u001b[0m\n\u001b[1;32m----> 1\u001b[1;33m \u001b[0mprint\u001b[0m\u001b[1;33m(\u001b[0m\u001b[0ms1\u001b[0m\u001b[1;33m[\u001b[0m\u001b[1;36m1\u001b[0m\u001b[1;33m]\u001b[0m\u001b[1;33m)\u001b[0m \u001b[1;31m# error bcaz sets doesn't supports indexing.\u001b[0m\u001b[1;33m\u001b[0m\u001b[1;33m\u001b[0m\u001b[0m\n\u001b[0m",
            "\u001b[1;31mTypeError\u001b[0m: 'frozenset' object is not subscriptable"
          ]
        }
      ]
    },
    {
      "cell_type": "markdown",
      "metadata": {
        "id": "qncOcVAv-wES"
      },
      "source": [
        "# 4. Dictionary\n",
        "#### Python dictinary is an unordered collection of items as key value pairs "
      ]
    },
    {
      "cell_type": "code",
      "metadata": {
        "id": "LiOOeDwA-wES"
      },
      "source": [
        "# dictionary creation \n",
        "my_dict = {}"
      ],
      "execution_count": null,
      "outputs": []
    },
    {
      "cell_type": "code",
      "metadata": {
        "id": "ulNMadM7-wET",
        "outputId": "2873cfe5-734c-4fa9-c038-e79420d2baaf"
      },
      "source": [
        "my_dict = {1:'abc',\n",
        "          2:'xyz'}\n",
        "print(my_dict)"
      ],
      "execution_count": null,
      "outputs": [
        {
          "output_type": "stream",
          "text": [
            "{1: 'abc', 2: 'xyz'}\n"
          ],
          "name": "stdout"
        }
      ]
    },
    {
      "cell_type": "code",
      "metadata": {
        "id": "YxPmveF--wET",
        "outputId": "132757da-6336-4fe5-9480-8a1441ef80a4"
      },
      "source": [
        "my_dict = {'name':'saida',\n",
        "          1:['abc','xyz']}\n",
        "print(my_dict)"
      ],
      "execution_count": null,
      "outputs": [
        {
          "output_type": "stream",
          "text": [
            "{'name': 'saida', 1: ['abc', 'xyz']}\n"
          ],
          "name": "stdout"
        }
      ]
    },
    {
      "cell_type": "code",
      "metadata": {
        "id": "qCepPWSv-wET",
        "outputId": "79954121-b849-481c-d41b-6903f42ef7cd"
      },
      "source": [
        "# creating dictionary from list and tuple etc\n",
        "my_dict = dict()\n",
        "my_dict = dict([(1,'abc'),(2,'xyz')])\n",
        "print(my_dict)"
      ],
      "execution_count": null,
      "outputs": [
        {
          "output_type": "stream",
          "text": [
            "{1: 'abc', 2: 'xyz'}\n"
          ],
          "name": "stdout"
        }
      ]
    },
    {
      "cell_type": "code",
      "metadata": {
        "id": "imtZZVWc-wEU",
        "outputId": "dfe57c24-3fdb-4c5b-aa9a-be0bf3e73452"
      },
      "source": [
        "# accessing dictinary elements\n",
        "my_dict ={'name':'saida',\n",
        "         'age':27,\n",
        "         'address':'guntur'}\n",
        "print(my_dict['name'])"
      ],
      "execution_count": null,
      "outputs": [
        {
          "output_type": "stream",
          "text": [
            "saida\n"
          ],
          "name": "stdout"
        }
      ]
    },
    {
      "cell_type": "code",
      "metadata": {
        "id": "GBvOexU8-wEU",
        "outputId": "6f0c57c0-a88d-4a0e-a277-21ec86baa095"
      },
      "source": [
        "print(my_dict['degree']) # error bcaz we didn't have degree key"
      ],
      "execution_count": null,
      "outputs": [
        {
          "output_type": "error",
          "ename": "KeyError",
          "evalue": "'degree'",
          "traceback": [
            "\u001b[1;31m---------------------------------------------------------------------------\u001b[0m",
            "\u001b[1;31mKeyError\u001b[0m                                  Traceback (most recent call last)",
            "\u001b[1;32m<ipython-input-133-c91fbc2dc769>\u001b[0m in \u001b[0;36m<module>\u001b[1;34m\u001b[0m\n\u001b[1;32m----> 1\u001b[1;33m \u001b[0mprint\u001b[0m\u001b[1;33m(\u001b[0m\u001b[0mmy_dict\u001b[0m\u001b[1;33m[\u001b[0m\u001b[1;34m'degree'\u001b[0m\u001b[1;33m]\u001b[0m\u001b[1;33m)\u001b[0m \u001b[1;31m# error bcaz we didn't have degree key\u001b[0m\u001b[1;33m\u001b[0m\u001b[1;33m\u001b[0m\u001b[0m\n\u001b[0m",
            "\u001b[1;31mKeyError\u001b[0m: 'degree'"
          ]
        }
      ]
    },
    {
      "cell_type": "code",
      "metadata": {
        "id": "tx5qtdvv-wEV",
        "outputId": "9f9639db-8a9f-4d67-a578-155852aa1260"
      },
      "source": [
        "print(my_dict.get('address'))"
      ],
      "execution_count": null,
      "outputs": [
        {
          "output_type": "stream",
          "text": [
            "guntur\n"
          ],
          "name": "stdout"
        }
      ]
    },
    {
      "cell_type": "code",
      "metadata": {
        "id": "ocB6Wcm3-wEV",
        "outputId": "eda4982a-1360-44b6-d5a6-b57799d7c65a"
      },
      "source": [
        "print(my_dict.get('degree'))"
      ],
      "execution_count": null,
      "outputs": [
        {
          "output_type": "stream",
          "text": [
            "None\n"
          ],
          "name": "stdout"
        }
      ]
    },
    {
      "cell_type": "code",
      "metadata": {
        "id": "wExvPKa8-wEV",
        "outputId": "8bc3802c-a38c-4c46-8058-801e386b4549"
      },
      "source": [
        "# add or modify\n",
        "my_dict['name']='Rao'\n",
        "print(my_dict)"
      ],
      "execution_count": null,
      "outputs": [
        {
          "output_type": "stream",
          "text": [
            "{'name': 'Rao', 'age': 27, 'address': 'guntur'}\n"
          ],
          "name": "stdout"
        }
      ]
    },
    {
      "cell_type": "code",
      "metadata": {
        "id": "7BqqPiQO-wEW",
        "outputId": "03fe3b52-5756-4c0a-afb8-176c43911607"
      },
      "source": [
        "my_dict['degree'] = 'B.tech'\n",
        "print(my_dict)"
      ],
      "execution_count": null,
      "outputs": [
        {
          "output_type": "stream",
          "text": [
            "{'name': 'Rao', 'age': 27, 'address': 'guntur', 'degree': 'B.tech'}\n"
          ],
          "name": "stdout"
        }
      ]
    },
    {
      "cell_type": "code",
      "metadata": {
        "id": "_scpqAwR-wEW",
        "outputId": "104428de-6961-4d83-b7cd-f3515b5ed81d"
      },
      "source": [
        "# delete or remove\n",
        "my_dict.pop('age')\n",
        "print(my_dict)"
      ],
      "execution_count": null,
      "outputs": [
        {
          "output_type": "stream",
          "text": [
            "{'name': 'Rao', 'address': 'guntur', 'degree': 'B.tech'}\n"
          ],
          "name": "stdout"
        }
      ]
    },
    {
      "cell_type": "code",
      "metadata": {
        "id": "iL59BxgB-wEW",
        "outputId": "f2cdd28d-0d81-465a-dde5-dd4151943f09"
      },
      "source": [
        "my_dict.popitem()\n",
        "print(my_dict)"
      ],
      "execution_count": null,
      "outputs": [
        {
          "output_type": "stream",
          "text": [
            "{'name': 'Rao'}\n"
          ],
          "name": "stdout"
        }
      ]
    },
    {
      "cell_type": "code",
      "metadata": {
        "id": "PPS002nA-wEX",
        "outputId": "83bb15cd-536d-4095-aa2a-4af0f86c1c72"
      },
      "source": [
        "sq = {2:4, 3:9, 4:16}\n",
        "del sq[2]\n",
        "print(sq)"
      ],
      "execution_count": null,
      "outputs": [
        {
          "output_type": "stream",
          "text": [
            "{3: 9, 4: 16}\n"
          ],
          "name": "stdout"
        }
      ]
    },
    {
      "cell_type": "code",
      "metadata": {
        "id": "uFCBY5X0-wEX",
        "outputId": "6d493cf3-b410-4cc4-a7ce-db023e143844"
      },
      "source": [
        "sq.clear()\n",
        "print(sq)"
      ],
      "execution_count": null,
      "outputs": [
        {
          "output_type": "stream",
          "text": [
            "{}\n"
          ],
          "name": "stdout"
        }
      ]
    },
    {
      "cell_type": "code",
      "metadata": {
        "id": "kGhktz0x-wEY",
        "outputId": "7906a920-0ea8-4a3b-b023-65616a40f9a4"
      },
      "source": [
        "sq = {2:4, 3:9, 4:16}\n",
        "del sq     # it will delete entire sq dictionary\n",
        "print(sq)"
      ],
      "execution_count": null,
      "outputs": [
        {
          "output_type": "error",
          "ename": "NameError",
          "evalue": "name 'sq' is not defined",
          "traceback": [
            "\u001b[1;31m---------------------------------------------------------------------------\u001b[0m",
            "\u001b[1;31mNameError\u001b[0m                                 Traceback (most recent call last)",
            "\u001b[1;32m<ipython-input-146-6cd9c5aaceb1>\u001b[0m in \u001b[0;36m<module>\u001b[1;34m\u001b[0m\n\u001b[0;32m      1\u001b[0m \u001b[0msq\u001b[0m \u001b[1;33m=\u001b[0m \u001b[1;33m{\u001b[0m\u001b[1;36m2\u001b[0m\u001b[1;33m:\u001b[0m\u001b[1;36m4\u001b[0m\u001b[1;33m,\u001b[0m \u001b[1;36m3\u001b[0m\u001b[1;33m:\u001b[0m\u001b[1;36m9\u001b[0m\u001b[1;33m,\u001b[0m \u001b[1;36m4\u001b[0m\u001b[1;33m:\u001b[0m\u001b[1;36m16\u001b[0m\u001b[1;33m}\u001b[0m\u001b[1;33m\u001b[0m\u001b[1;33m\u001b[0m\u001b[0m\n\u001b[0;32m      2\u001b[0m \u001b[1;32mdel\u001b[0m \u001b[0msq\u001b[0m\u001b[1;33m\u001b[0m\u001b[1;33m\u001b[0m\u001b[0m\n\u001b[1;32m----> 3\u001b[1;33m \u001b[0mprint\u001b[0m\u001b[1;33m(\u001b[0m\u001b[0msq\u001b[0m\u001b[1;33m)\u001b[0m\u001b[1;33m\u001b[0m\u001b[1;33m\u001b[0m\u001b[0m\n\u001b[0m",
            "\u001b[1;31mNameError\u001b[0m: name 'sq' is not defined"
          ]
        }
      ]
    },
    {
      "cell_type": "code",
      "metadata": {
        "id": "lu41NgpO-wEY",
        "outputId": "52a75ab9-7ca0-41db-9f48-50cca0aeae20"
      },
      "source": [
        "# Dictionary methods \n",
        "sq = {2:4,3:9,4:16,5:25}\n",
        "my_dict = sq.copy()\n",
        "print(my_dict)"
      ],
      "execution_count": null,
      "outputs": [
        {
          "output_type": "stream",
          "text": [
            "{2: 4, 3: 9, 4: 16, 5: 25}\n"
          ],
          "name": "stdout"
        }
      ]
    },
    {
      "cell_type": "code",
      "metadata": {
        "id": "vHb6wQB2-wEZ",
        "outputId": "e155ba94-e098-4116-cbeb-ddac822fa7a7"
      },
      "source": [
        "subjects = {}.fromkeys(['math','english','hindi'])\n",
        "print(subjects)"
      ],
      "execution_count": null,
      "outputs": [
        {
          "output_type": "stream",
          "text": [
            "{'math': None, 'english': None, 'hindi': None}\n"
          ],
          "name": "stdout"
        }
      ]
    },
    {
      "cell_type": "code",
      "metadata": {
        "id": "i6j9jO-E-wEZ",
        "outputId": "8bfe951b-1272-41ef-ab79-a353b0c96c5d"
      },
      "source": [
        "s = {2:4,3:9,4:16,5:25}\n",
        "print(s.items())"
      ],
      "execution_count": null,
      "outputs": [
        {
          "output_type": "stream",
          "text": [
            "dict_items([(2, 4), (3, 9), (4, 16), (5, 25)])\n"
          ],
          "name": "stdout"
        }
      ]
    },
    {
      "cell_type": "code",
      "metadata": {
        "id": "6NXhDeir-wEZ",
        "outputId": "ff20f17e-f7f3-462d-a93e-5a4b670af251"
      },
      "source": [
        "print(s.keys())"
      ],
      "execution_count": null,
      "outputs": [
        {
          "output_type": "stream",
          "text": [
            "dict_keys([2, 3, 4, 5])\n"
          ],
          "name": "stdout"
        }
      ]
    },
    {
      "cell_type": "code",
      "metadata": {
        "id": "ekAeNae_-wEa",
        "outputId": "7237c781-9cd2-4dce-bebe-5773c7932458"
      },
      "source": [
        "print(s.values())"
      ],
      "execution_count": null,
      "outputs": [
        {
          "output_type": "stream",
          "text": [
            "dict_values([4, 9, 16, 25])\n"
          ],
          "name": "stdout"
        }
      ]
    },
    {
      "cell_type": "code",
      "metadata": {
        "id": "xyv4Xk_H-wEa",
        "outputId": "27a65ac5-4030-4b8e-81b8-ba761ad26140"
      },
      "source": [
        "d = {}   \n",
        "print(dir(d))  # gets all methods of dictionary"
      ],
      "execution_count": null,
      "outputs": [
        {
          "output_type": "stream",
          "text": [
            "['__class__', '__contains__', '__delattr__', '__delitem__', '__dir__', '__doc__', '__eq__', '__format__', '__ge__', '__getattribute__', '__getitem__', '__gt__', '__hash__', '__init__', '__init_subclass__', '__iter__', '__le__', '__len__', '__lt__', '__ne__', '__new__', '__reduce__', '__reduce_ex__', '__repr__', '__setattr__', '__setitem__', '__sizeof__', '__str__', '__subclasshook__', 'clear', 'copy', 'fromkeys', 'get', 'items', 'keys', 'pop', 'popitem', 'setdefault', 'update', 'values']\n"
          ],
          "name": "stdout"
        }
      ]
    },
    {
      "cell_type": "code",
      "metadata": {
        "id": "hGM3IqvJ-wEb",
        "outputId": "8284f299-f89c-48a7-d7fe-6d6c57c900f6"
      },
      "source": [
        "# dictinary comprehension\n",
        "d = {'a':1,'b':2,'c':3}\n",
        "for pair in d.items():\n",
        "    print(pair)"
      ],
      "execution_count": null,
      "outputs": [
        {
          "output_type": "stream",
          "text": [
            "('a', 1)\n",
            "('b', 2)\n",
            "('c', 3)\n"
          ],
          "name": "stdout"
        }
      ]
    },
    {
      "cell_type": "code",
      "metadata": {
        "id": "2CBmkGdt-wEb",
        "outputId": "f5ae4260-a6c5-4903-d323-de39e2485265"
      },
      "source": [
        "d = {'a':1,'b':2,'c':3,'d':4}\n",
        "new_dict = {k:v for k,v in d.items() if v>2}\n",
        "print(new_dict)"
      ],
      "execution_count": null,
      "outputs": [
        {
          "output_type": "stream",
          "text": [
            "{'c': 3, 'd': 4}\n"
          ],
          "name": "stdout"
        }
      ]
    },
    {
      "cell_type": "code",
      "metadata": {
        "id": "ewzqB8dg-wEb",
        "outputId": "436a6429-23fc-4270-efba-e02e88cb90e1"
      },
      "source": [
        "d = {'a':1,'b':2,'c':3,'d':4,'e':5}\n",
        "d = {k+'c':v*2 for k,v in d.items() if v>2}\n",
        "print(d)"
      ],
      "execution_count": null,
      "outputs": [
        {
          "output_type": "stream",
          "text": [
            "{'cc': 6, 'dc': 8, 'ec': 10}\n"
          ],
          "name": "stdout"
        }
      ]
    },
    {
      "cell_type": "markdown",
      "metadata": {
        "id": "cQCdcxPd-wEc"
      },
      "source": [
        "# 5. Strings\n",
        "#### In python, A string is a sequence of characters "
      ]
    },
    {
      "cell_type": "code",
      "metadata": {
        "colab": {
          "base_uri": "https://localhost:8080/"
        },
        "id": "32rMG4WI-wEd",
        "outputId": "882a0cda-f447-49b0-a7a6-1da7268b5044"
      },
      "source": [
        "# examples\n",
        "mystring = 'hello'\n",
        "print(mystring)"
      ],
      "execution_count": null,
      "outputs": [
        {
          "output_type": "stream",
          "text": [
            "hello\n"
          ],
          "name": "stdout"
        }
      ]
    },
    {
      "cell_type": "code",
      "metadata": {
        "colab": {
          "base_uri": "https://localhost:8080/"
        },
        "id": "ziX2wHfo-wEd",
        "outputId": "fc16394a-ef28-4d9a-ebb5-cd2973cb3241"
      },
      "source": [
        "mystring = \"hello\"\n",
        "print(mystring)"
      ],
      "execution_count": null,
      "outputs": [
        {
          "output_type": "stream",
          "text": [
            "hello\n"
          ],
          "name": "stdout"
        }
      ]
    },
    {
      "cell_type": "code",
      "metadata": {
        "colab": {
          "base_uri": "https://localhost:8080/"
        },
        "id": "FuCNkPES-wEe",
        "outputId": "7e100539-6055-4504-96bd-7cec0e40c827"
      },
      "source": [
        "mystring = \"'hello'\"\n",
        "print(mystring)"
      ],
      "execution_count": null,
      "outputs": [
        {
          "output_type": "stream",
          "text": [
            "'hello'\n"
          ],
          "name": "stdout"
        }
      ]
    },
    {
      "cell_type": "code",
      "metadata": {
        "colab": {
          "base_uri": "https://localhost:8080/"
        },
        "id": "BYia1yR5-wEe",
        "outputId": "6ff455e4-d588-4683-e6de-684aad6fcc7a"
      },
      "source": [
        "mystring = 'hello'\n",
        "print(mystring[0])\n",
        "print(mystring[-1])\n",
        "print(mystring[2:5])"
      ],
      "execution_count": null,
      "outputs": [
        {
          "output_type": "stream",
          "text": [
            "h\n",
            "o\n",
            "llo\n"
          ],
          "name": "stdout"
        }
      ]
    },
    {
      "cell_type": "code",
      "metadata": {
        "colab": {
          "base_uri": "https://localhost:8080/",
          "height": 163
        },
        "id": "qBxDx3Cs-wEf",
        "outputId": "ee290938-9888-49b7-8566-0424c04140f5"
      },
      "source": [
        "print(mystring[15]) # index out of range error"
      ],
      "execution_count": null,
      "outputs": [
        {
          "output_type": "error",
          "ename": "IndexError",
          "evalue": "ignored",
          "traceback": [
            "\u001b[0;31m---------------------------------------------------------------------------\u001b[0m",
            "\u001b[0;31mIndexError\u001b[0m                                Traceback (most recent call last)",
            "\u001b[0;32m<ipython-input-5-36c2b8b3566f>\u001b[0m in \u001b[0;36m<module>\u001b[0;34m()\u001b[0m\n\u001b[0;32m----> 1\u001b[0;31m \u001b[0mprint\u001b[0m\u001b[0;34m(\u001b[0m\u001b[0mmystring\u001b[0m\u001b[0;34m[\u001b[0m\u001b[0;36m15\u001b[0m\u001b[0;34m]\u001b[0m\u001b[0;34m)\u001b[0m \u001b[0;31m# index out of range error\u001b[0m\u001b[0;34m\u001b[0m\u001b[0;34m\u001b[0m\u001b[0m\n\u001b[0m",
            "\u001b[0;31mIndexError\u001b[0m: string index out of range"
          ]
        }
      ]
    },
    {
      "cell_type": "code",
      "metadata": {
        "id": "I6xm1M98-wEf"
      },
      "source": [
        "print(mystring[1.5])  #type error "
      ],
      "execution_count": null,
      "outputs": []
    },
    {
      "cell_type": "code",
      "metadata": {
        "id": "WDgSr3mN-wEf"
      },
      "source": [
        "# change or delete\n",
        "mystring = \"hello\"\n",
        "mystring[4]='s' # type error , as we cam't do item assignment\n"
      ],
      "execution_count": null,
      "outputs": []
    },
    {
      "cell_type": "code",
      "metadata": {
        "id": "ISUAVN-4-wEg"
      },
      "source": [
        "del mystring # deleted \n",
        "print(mystring)"
      ],
      "execution_count": null,
      "outputs": []
    },
    {
      "cell_type": "code",
      "metadata": {
        "colab": {
          "base_uri": "https://localhost:8080/"
        },
        "id": "EVn7EVGU-wEg",
        "outputId": "d260b685-364b-459b-8796-60236c4af831"
      },
      "source": [
        "# string operations\n",
        "# string concatination\n",
        "s1=\"hello\"\n",
        "s2=\"saida\"\n",
        "print(s1+s2)"
      ],
      "execution_count": null,
      "outputs": [
        {
          "output_type": "stream",
          "text": [
            "hellosaida\n"
          ],
          "name": "stdout"
        }
      ]
    },
    {
      "cell_type": "code",
      "metadata": {
        "colab": {
          "base_uri": "https://localhost:8080/"
        },
        "id": "WXLuVea5-wEg",
        "outputId": "515356f6-1832-4ffb-f0a7-8387f942d4eb"
      },
      "source": [
        "print(s1*3)"
      ],
      "execution_count": null,
      "outputs": [
        {
          "output_type": "stream",
          "text": [
            "hellohellohello\n"
          ],
          "name": "stdout"
        }
      ]
    },
    {
      "cell_type": "code",
      "metadata": {
        "colab": {
          "base_uri": "https://localhost:8080/"
        },
        "id": "CLsMPVKF-wEh",
        "outputId": "e306ad0c-ec93-4c65-bd30-06d4b6bcd7fb"
      },
      "source": [
        "# iteration through string\n",
        "count = 0\n",
        "for i in \"hello world\":\n",
        "    if i=='o':\n",
        "        count+=1\n",
        "print(count,'letters found')"
      ],
      "execution_count": null,
      "outputs": [
        {
          "output_type": "stream",
          "text": [
            "2 letters found\n"
          ],
          "name": "stdout"
        }
      ]
    },
    {
      "cell_type": "code",
      "metadata": {
        "id": "RyQ6VLaV-wEh"
      },
      "source": [
        "# membership\n",
        "print('l' in \"Hello world\")"
      ],
      "execution_count": null,
      "outputs": []
    },
    {
      "cell_type": "code",
      "metadata": {
        "id": "4dxt5b68-wEi"
      },
      "source": [
        "print('or' in \"Hello world\")"
      ],
      "execution_count": null,
      "outputs": []
    },
    {
      "cell_type": "code",
      "metadata": {
        "id": "PG9afFgy-wEi"
      },
      "source": [
        "s = \"Hello\"\n",
        "print(s.lower())"
      ],
      "execution_count": null,
      "outputs": []
    },
    {
      "cell_type": "code",
      "metadata": {
        "id": "ZxMHSpJA-wEi"
      },
      "source": [
        "print(s.upper())"
      ],
      "execution_count": null,
      "outputs": []
    },
    {
      "cell_type": "code",
      "metadata": {
        "id": "k6xIq7o7-wEj"
      },
      "source": [
        "mystring = \"This will split all words in a list\"\n",
        "print(mystring.split( ))"
      ],
      "execution_count": null,
      "outputs": []
    },
    {
      "cell_type": "code",
      "metadata": {
        "id": "_lSVOhPH-wEj"
      },
      "source": [
        "s1='_'.join(mystring.split( ))\n",
        "print(s1)"
      ],
      "execution_count": null,
      "outputs": []
    },
    {
      "cell_type": "code",
      "metadata": {
        "id": "DJwXcgpL-wEk"
      },
      "source": [
        "\"Good Morning\".find('Mo')"
      ],
      "execution_count": null,
      "outputs": []
    },
    {
      "cell_type": "code",
      "metadata": {
        "id": "F8S8q1Jl-wEl"
      },
      "source": [
        "\"Bad Morning\".replace(\"Bad\",\"Good\")"
      ],
      "execution_count": null,
      "outputs": []
    },
    {
      "cell_type": "code",
      "metadata": {
        "id": "5-zZyw_9-wEl"
      },
      "source": [
        "s1=\"Bad Morning\"\n",
        "s2=s1.replace(\"Bad\",\"Good\")\n",
        "print(s1)\n",
        "print(s2)"
      ],
      "execution_count": null,
      "outputs": []
    },
    {
      "cell_type": "code",
      "metadata": {
        "id": "OSAsRFYX-wEm"
      },
      "source": [
        "# plaindrome\n",
        "mystr = \"MadaM\"\n",
        "mystr = mystr.lower()\n",
        "revstr = reversed(mystr)\n",
        "if list(mystr) == list(revstr):\n",
        "    print(\"Given string is palindrome\")\n",
        "else:\n",
        "    print(\"Given string is not a plaindrome\")"
      ],
      "execution_count": null,
      "outputs": []
    },
    {
      "cell_type": "code",
      "metadata": {
        "id": "3gAvGH5i-wEn"
      },
      "source": [
        "# sort words in alphabetic order\n",
        "mystr = \"pyhton program to sort words in aplabetic order\"\n",
        "words = mystr.split()\n",
        "words.sort()\n",
        "for i in words:\n",
        "    print(i)"
      ],
      "execution_count": null,
      "outputs": []
    },
    {
      "cell_type": "code",
      "metadata": {
        "colab": {
          "base_uri": "https://localhost:8080/"
        },
        "id": "C1jhP-lf-wEn",
        "outputId": "f611e4f5-98d3-4d96-a3da-206262fbf400"
      },
      "source": [
        "s=\" \"\n",
        "print(dir(s))"
      ],
      "execution_count": null,
      "outputs": [
        {
          "output_type": "stream",
          "text": [
            "['__add__', '__class__', '__contains__', '__delattr__', '__dir__', '__doc__', '__eq__', '__format__', '__ge__', '__getattribute__', '__getitem__', '__getnewargs__', '__gt__', '__hash__', '__init__', '__init_subclass__', '__iter__', '__le__', '__len__', '__lt__', '__mod__', '__mul__', '__ne__', '__new__', '__reduce__', '__reduce_ex__', '__repr__', '__rmod__', '__rmul__', '__setattr__', '__sizeof__', '__str__', '__subclasshook__', 'capitalize', 'casefold', 'center', 'count', 'encode', 'endswith', 'expandtabs', 'find', 'format', 'format_map', 'index', 'isalnum', 'isalpha', 'isascii', 'isdecimal', 'isdigit', 'isidentifier', 'islower', 'isnumeric', 'isprintable', 'isspace', 'istitle', 'isupper', 'join', 'ljust', 'lower', 'lstrip', 'maketrans', 'partition', 'replace', 'rfind', 'rindex', 'rjust', 'rpartition', 'rsplit', 'rstrip', 'split', 'splitlines', 'startswith', 'strip', 'swapcase', 'title', 'translate', 'upper', 'zfill']\n"
          ],
          "name": "stdout"
        }
      ]
    },
    {
      "cell_type": "code",
      "metadata": {
        "id": "UViRO6-p-wEo"
      },
      "source": [
        "\"Asmjkasklfaspk\".expandtabs()"
      ],
      "execution_count": null,
      "outputs": []
    },
    {
      "cell_type": "code",
      "metadata": {
        "id": "0SWXK_Q7-wEo"
      },
      "source": [
        ""
      ],
      "execution_count": null,
      "outputs": []
    }
  ]
}